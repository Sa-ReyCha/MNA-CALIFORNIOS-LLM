{
 "cells": [
  {
   "cell_type": "code",
   "execution_count": null,
   "id": "f7f6b16a",
   "metadata": {},
   "outputs": [],
   "source": [
    "# REQUERIMNIENTOS \n",
    "# !pip install requests openai"
   ]
  },
  {
   "cell_type": "code",
   "execution_count": null,
   "id": "dfc4f941",
   "metadata": {},
   "outputs": [],
   "source": []
  },
  {
   "cell_type": "code",
   "execution_count": null,
   "id": "9983c031",
   "metadata": {},
   "outputs": [],
   "source": [
    "from openai import OpenAI\n",
    "\n",
    "client = OpenAI(\n",
    "    # defaults to os.environ.get(\"OPENAI_API_KEY\")\n",
    "    api_key=\"\",\n",
    ")\n",
    "\n",
    "def chat_gpt(prompt):\n",
    "    response = client.chat.completions.create(\n",
    "        model=\"gpt-4o-mini\",\n",
    "        messages=[{\"role\": \"user\", \"content\": prompt}]\n",
    "    )\n",
    "    return response.choices[0].message.content.strip()"
   ]
  },
  {
   "cell_type": "code",
   "execution_count": 8,
   "id": "c6ce9553",
   "metadata": {},
   "outputs": [
    {
     "name": "stdout",
     "output_type": "stream",
     "text": [
      "Respuesta del modelo: Verificar si un número es primo en Python es una tarea común y se puede hacer de varias maneras. A continuación, te muestro una función simple que verifica si un número dado es primo:\n",
      "\n",
      "```python\n",
      "def es_primo(n):\n",
      "    # Un número menor que 2 no es primo\n",
      "    if n < 2:\n",
      "        return False\n",
      "    # Verificamos si hay divisores desde 2 hasta la raíz cuadrada de n\n",
      "    for i in range(2, int(n**0.5) + 1):\n",
      "        if n % i == 0:\n",
      "            return False\n",
      "    return True\n",
      "\n",
      "# Ejemplo de uso\n",
      "numero = 29\n",
      "if es_primo(numero):\n",
      "    print(f\"{numero} es un número primo.\")\n",
      "else:\n",
      "    print(f\"{numero} no es un número primo.\")\n",
      "```\n",
      "\n",
      "### Explicación del código:\n",
      "1. **Condición Inicial**: Si el número es menor que 2, retorna `False` ya que los números menores a 2 no son primos.\n",
      "2. **Bucle**: Se itera desde 2 hasta la raíz cuadrada del número (`n ** 0.5`). Esto se debe a que si `n` tiene un divisor mayor que su raíz cuadrada, el otro divisor debe ser menor que la raíz cuadrada.\n",
      "3. **Comprobación de Divisibilidad**: Si se encuentra un divisor (es decir, si `n` es divisible por `i`), retorna `False`.\n",
      "4. Si no se encuentra ningún divisor, retorna `True`, indicando que `n` es primo.\n",
      "\n",
      "Puedes probar esta función con diferentes valores para comprobar si funcionan según lo esperado.\n"
     ]
    }
   ],
   "source": [
    "# Definir el prompt\n",
    "prompt = \"¿Cómo puedo verificar si un número es primo en Python?\"\n",
    "\n",
    "# Llamar a la función y obtener la respuesta\n",
    "respuesta = chat_gpt(prompt)\n",
    "\n",
    "# Imprimir la respuesta\n",
    "print(\"Respuesta del modelo:\", respuesta)"
   ]
  },
  {
   "cell_type": "code",
   "execution_count": 1,
   "id": "edc0a117",
   "metadata": {},
   "outputs": [],
   "source": [
    "# Leyendno la informacion y leer la cantidad de palabras\n",
    "def contar_palabras(texto):\n",
    "    # Contar la cantidad de palabras en el texto\n",
    "    return len(texto.split())\n",
    "\n",
    "# En el texto txt que se va a otorgan en el path /patn\n",
    "def leer_archivo(path):\n",
    "    with open(path, 'r') as file:\n",
    "        contenido = file.read()\n",
    "    return contenido"
   ]
  },
  {
   "cell_type": "markdown",
   "id": "576e4ce5",
   "metadata": {},
   "source": [
    "# **LIBRO**"
   ]
  },
  {
   "cell_type": "code",
   "execution_count": 5,
   "id": "b444a335",
   "metadata": {},
   "outputs": [
    {
     "data": {
      "text/plain": [
       "40159"
      ]
     },
     "execution_count": 5,
     "metadata": {},
     "output_type": "execute_result"
    }
   ],
   "source": [
    "# leyendo los datos de /data\n",
    "leer_archivo('data/libro.txt')\n",
    "contar_palabras(leer_archivo('data/libro.txt'))"
   ]
  },
  {
   "cell_type": "markdown",
   "id": "8015ab6a",
   "metadata": {},
   "source": [
    "# **SERIE**"
   ]
  },
  {
   "cell_type": "code",
   "execution_count": 17,
   "id": "0c4ea9e6",
   "metadata": {},
   "outputs": [
    {
     "data": {
      "text/plain": [
       "40159"
      ]
     },
     "execution_count": 17,
     "metadata": {},
     "output_type": "execute_result"
    }
   ],
   "source": [
    "# leyendo los datos de /data\n",
    "leer_archivo('data/SERIE.txt')\n",
    "contar_palabras(leer_archivo('data/serie.txt'))"
   ]
  }
 ],
 "metadata": {
  "kernelspec": {
   "display_name": ".env_santi",
   "language": "python",
   "name": "python3"
  },
  "language_info": {
   "codemirror_mode": {
    "name": "ipython",
    "version": 3
   },
   "file_extension": ".py",
   "mimetype": "text/x-python",
   "name": "python",
   "nbconvert_exporter": "python",
   "pygments_lexer": "ipython3",
   "version": "3.12.9"
  }
 },
 "nbformat": 4,
 "nbformat_minor": 5
}
